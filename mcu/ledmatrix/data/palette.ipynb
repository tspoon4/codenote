{
 "cells": [
  {
   "cell_type": "code",
   "execution_count": 1,
   "metadata": {},
   "outputs": [],
   "source": [
    "import numpy as np\n",
    "from PIL import Image"
   ]
  },
  {
   "cell_type": "code",
   "execution_count": 2,
   "metadata": {},
   "outputs": [],
   "source": [
    "def lut_256(colors: np.ndarray) -> np.ndarray:\n",
    "    cshp = colors.shape\n",
    "    assert cshp[0] > 1\n",
    "    assert cshp[1] == 3\n",
    "    \n",
    "    ypal = np.zeros((256, 3), dtype=np.float)\n",
    "    xpal = np.linspace(0.0, 1.0, 256, dtype=np.float)\n",
    "    xcol = np.linspace(0.0, 1.0, cshp[0], dtype=np.float)\n",
    "\n",
    "    for i in range(0, 3):\n",
    "        ycol = colors[:, i] / 255.0\n",
    "        ypal[:, i] = np.power(np.interp(xpal, xcol, ycol), 2.2)\n",
    "\n",
    "    return ypal"
   ]
  },
  {
   "cell_type": "code",
   "execution_count": 3,
   "metadata": {},
   "outputs": [],
   "source": [
    "def export_lut_12bits(lut: np.ndarray) -> str:\n",
    "    tmp = lut * 15.0 + 0.5\n",
    "    tmp = tmp.astype(np.uint16)\n",
    "    lut12 = tmp[:, 0] << 8 | tmp[:, 1] << 4 | tmp[:, 2]\n",
    "    \n",
    "    header = \"#pragma once\\n\"\n",
    "    header += \"const uint16_t lut[] = {\"\n",
    "    for i in range(0, 256):    \n",
    "        header += hex(lut12[i]) + \", \"\n",
    "    header += \"};\\n\"\n",
    "    \n",
    "    return header"
   ]
  },
  {
   "cell_type": "code",
   "execution_count": 4,
   "metadata": {},
   "outputs": [],
   "source": [
    "def sine_lut_256() -> np.ndarray:\n",
    "    xtable = np.linspace(0.0, 2.0*np.pi, 256, endpoint=False)\n",
    "    ytable = np.sin(xtable)\n",
    "    return ytable"
   ]
  },
  {
   "cell_type": "code",
   "execution_count": 5,
   "metadata": {},
   "outputs": [],
   "source": [
    "def export_lut_16bits(lut: np.ndarray) -> str:\n",
    "    tmp = lut * 255.0 + 0.5\n",
    "    lut8 = tmp.astype(np.int16)\n",
    "    \n",
    "    header = \"#pragma once\\n\"\n",
    "    header += \"const int16_t sine[] = {\"\n",
    "    for i in range(0, 256):\n",
    "        header += hex(lut8[i]) + ', '\n",
    "    header += \"};\\n\"\n",
    "    \n",
    "    return header"
   ]
  },
  {
   "cell_type": "code",
   "execution_count": 6,
   "metadata": {},
   "outputs": [],
   "source": [
    "def export_hmap_8bits(hmap: np.ndarray) -> str:\n",
    "    header = \"#pragma once\\n\"\n",
    "    header += \"const uint8_t hmap[] = {\\n\"\n",
    "    for j in range(0, hmap.shape[0]):\n",
    "        for i in range(0, hmap.shape[1]):\n",
    "            header += hex(hmap[j, i]) + \", \"\n",
    "        header += \"\\n\"\n",
    "    header += \"};\\n\"\n",
    "    return header"
   ]
  },
  {
   "cell_type": "code",
   "execution_count": 14,
   "metadata": {},
   "outputs": [],
   "source": [
    "#colors = np.array([[0xFF, 0x00, 0x00], [0xFF, 0x7F, 0x00], [0xFF, 0xFF, 0x00],\n",
    "#                   [0x00, 0xFF, 0x00], [0x00, 0x00, 0xFF], [0x4B, 0x00, 0x82],\n",
    "#                   [0x94, 0x00, 0xD3], [0xFF, 0x00, 0x00]], dtype=np.uint8)\n",
    "#colors = np.array([[0x00, 0x00, 0x00], [0xFF, 0x00, 0x00], [0xFF, 0xFF, 0x00],\n",
    "#                   [0x00, 0x00, 0xFF], [0x00, 0xFF, 0xFF]], dtype=np.uint8)\n",
    "#colors = np.array([[0x00, 0xBF, 0xFF], [0x00, 0xFF, 0x00], [0x00, 0x7F, 0x00], [0xB8, 0x86, 0x0B],\n",
    "#                   [0x8B, 0x45, 0x13], [0x80, 0x80, 0x80], [0xFF, 0xFF, 0xFF]], dtype=np.uint8)\n",
    "#colors = np.array([[0x00, 0x00, 0x3F], [0x00, 0x00, 0xFF], [0xFF, 0xFF, 0xFF],\n",
    "#                   [0xFF, 0x00, 0x00], [0x3F, 0x00, 0x00]], dtype=np.uint8)\n",
    "#colors = np.array([[0xFF, 0xFF, 0x00], [0xFF, 0x00, 0x00], [0xFF, 0xFF, 0x00]], dtype=np.uint8)\n",
    "#colors = np.array([[0x00, 0xFF, 0xFF], [0x00, 0xFF, 0x00], [0x00, 0xFF, 0xFF]], dtype=np.uint8)\n",
    "#colors = np.array([[0xFF, 0x00, 0xFF], [0x00, 0x00, 0xFF], [0xFF, 0x00, 0xFF]], dtype=np.uint8)\n",
    "#colors = np.array([[0xFF, 0xFF, 0x00], [0x00, 0xFF, 0xFF], [0xFF, 0xFF, 0x00]], dtype=np.uint8)\n",
    "#colors = np.array([[0x00, 0x00, 0x00], [0xFF, 0xFF, 0xFF],\n",
    "#                   [0x00, 0x00, 0x00], [0xFF, 0xFF, 0xFF],\n",
    "#                   [0x00, 0x00, 0x00], [0xFF, 0xFF, 0xFF],\n",
    "#                   [0x00, 0x00, 0x00], [0xFF, 0xFF, 0xFF]], dtype=np.uint8)\n",
    "#colors = np.array([[0x00, 0x00, 0x00], [0x00, 0x00, 0x00],\n",
    "#                   [0x00, 0x00, 0x00], [0x00, 0x00, 0x00],\n",
    "#                   [0x00, 0x00, 0x00], [0x00, 0x00, 0x00],\n",
    "#                   [0x00, 0x00, 0x00], [0xFF, 0xFF, 0xFF]], dtype=np.uint8)\n",
    "#colors = np.array([[0x00, 0x00, 0x00], [0x00, 0x00, 0x00],\n",
    "#                   [0x00, 0x00, 0x00], [0xFF, 0xFF, 0xFF],\n",
    "#                   [0x00, 0x00, 0x00], [0x00, 0x00, 0x00],\n",
    "#                   [0x00, 0x00, 0x00], [0x00, 0x00, 0x00]], dtype=np.uint8)\n",
    "colors = np.array([[0x00, 0x00, 0x00], [0xFF, 0xFF, 0xFF]], dtype=np.uint8)\n",
    "\n",
    "pal = lut_256(colors)\n",
    "header = export_lut_12bits(pal)\n",
    "with open(\"gen.h\", \"w\") as f:\n",
    "    f.write(header)"
   ]
  },
  {
   "cell_type": "code",
   "execution_count": 10,
   "metadata": {},
   "outputs": [],
   "source": [
    "lut = sine_lut_256()\n",
    "header = export_lut_16bits(lut)\n",
    "with open(\"sine.h\", \"w\") as f:\n",
    "    f.write(header)"
   ]
  },
  {
   "cell_type": "code",
   "execution_count": 47,
   "metadata": {},
   "outputs": [],
   "source": [
    "hmap = Image.open(\"heightmap.png\")\n",
    "img = hmap.resize((128, 128), resample=Image.BOX)\n",
    "tmp = np.array(img)\n",
    "\n",
    "tshape = (tmp.shape[0]*2, tmp.shape[1]*2)\n",
    "tile = np.zeros((tshape[0], tshape[1]))\n",
    "tile[0:tmp.shape[0], 0:tmp.shape[1]] = tmp\n",
    "tile[0:tmp.shape[0], tmp.shape[1]:tshape[1]] = tmp[:, ::-1]\n",
    "tile[tmp.shape[0]:tshape[0], 0:tmp.shape[1]] = tmp[::-1, :]\n",
    "tile[tmp.shape[0]:tshape[0], tmp.shape[1]:tshape[1]] = tmp[::-1, ::-1]\n",
    "\n",
    "bias = 1.2 # create more lakes\n",
    "tile = (tile - bias*np.min(tile)) / (np.max(tile) - bias*np.min(tile)) * 255.0\n",
    "tile = np.clip(tile, 0, 255)\n",
    "\n",
    "header = export_hmap_8bits(tile.astype(np.uint8))\n",
    "with open(\"hmap.h\", \"w\") as f:\n",
    "    f.write(header)"
   ]
  },
  {
   "cell_type": "code",
   "execution_count": null,
   "metadata": {},
   "outputs": [],
   "source": []
  }
 ],
 "metadata": {
  "kernelspec": {
   "display_name": "Python 3",
   "language": "python",
   "name": "python3"
  },
  "language_info": {
   "codemirror_mode": {
    "name": "ipython",
    "version": 3
   },
   "file_extension": ".py",
   "mimetype": "text/x-python",
   "name": "python",
   "nbconvert_exporter": "python",
   "pygments_lexer": "ipython3",
   "version": "3.6.4"
  }
 },
 "nbformat": 4,
 "nbformat_minor": 5
}
